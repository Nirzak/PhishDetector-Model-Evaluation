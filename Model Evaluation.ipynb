{
 "cells": [
  {
   "cell_type": "code",
   "execution_count": 1,
   "metadata": {},
   "outputs": [],
   "source": [
    "import numpy as np # imports a fast numerical programming library\n",
    "import scipy as sp #imports stats functions, amongst other things\n",
    "import matplotlib as mpl # this actually imports matplotlib\n",
    "import matplotlib.cm as cm #allows us easy access to colormaps\n",
    "import matplotlib.pyplot as plt #sets up plotting under plt\n",
    "import pandas as pd #lets us handle data as dataframes\n",
    "from pandas import DataFrame\n",
    "import sklearn\n",
    "from sklearn import model_selection\n",
    "import pickle"
   ]
  },
  {
   "cell_type": "code",
   "execution_count": 2,
   "metadata": {},
   "outputs": [],
   "source": [
    "df = pd.read_csv(\"dataset.csv\")"
   ]
  },
  {
   "cell_type": "code",
   "execution_count": 3,
   "metadata": {},
   "outputs": [
    {
     "data": {
      "text/html": [
       "<div>\n",
       "<style scoped>\n",
       "    .dataframe tbody tr th:only-of-type {\n",
       "        vertical-align: middle;\n",
       "    }\n",
       "\n",
       "    .dataframe tbody tr th {\n",
       "        vertical-align: top;\n",
       "    }\n",
       "\n",
       "    .dataframe thead th {\n",
       "        text-align: right;\n",
       "    }\n",
       "</style>\n",
       "<table border=\"1\" class=\"dataframe\">\n",
       "  <thead>\n",
       "    <tr style=\"text-align: right;\">\n",
       "      <th></th>\n",
       "      <th>index</th>\n",
       "      <th>having_IPhaving_IP_Address</th>\n",
       "      <th>URLURL_Length</th>\n",
       "      <th>Shortining_Service</th>\n",
       "      <th>having_At_Symbol</th>\n",
       "      <th>double_slash_redirecting</th>\n",
       "      <th>Prefix_Suffix</th>\n",
       "      <th>having_Sub_Domain</th>\n",
       "      <th>SSLfinal_State</th>\n",
       "      <th>Domain_registeration_length</th>\n",
       "      <th>...</th>\n",
       "      <th>popUpWidnow</th>\n",
       "      <th>Iframe</th>\n",
       "      <th>age_of_domain</th>\n",
       "      <th>DNSRecord</th>\n",
       "      <th>web_traffic</th>\n",
       "      <th>Page_Rank</th>\n",
       "      <th>Google_Index</th>\n",
       "      <th>Links_pointing_to_page</th>\n",
       "      <th>Statistical_report</th>\n",
       "      <th>Result</th>\n",
       "    </tr>\n",
       "  </thead>\n",
       "  <tbody>\n",
       "    <tr>\n",
       "      <td>0</td>\n",
       "      <td>1</td>\n",
       "      <td>-1</td>\n",
       "      <td>1</td>\n",
       "      <td>1</td>\n",
       "      <td>1</td>\n",
       "      <td>-1</td>\n",
       "      <td>-1</td>\n",
       "      <td>-1</td>\n",
       "      <td>-1</td>\n",
       "      <td>-1</td>\n",
       "      <td>...</td>\n",
       "      <td>1</td>\n",
       "      <td>1</td>\n",
       "      <td>-1</td>\n",
       "      <td>-1</td>\n",
       "      <td>-1</td>\n",
       "      <td>-1</td>\n",
       "      <td>1</td>\n",
       "      <td>1</td>\n",
       "      <td>-1</td>\n",
       "      <td>-1</td>\n",
       "    </tr>\n",
       "    <tr>\n",
       "      <td>1</td>\n",
       "      <td>2</td>\n",
       "      <td>1</td>\n",
       "      <td>1</td>\n",
       "      <td>1</td>\n",
       "      <td>1</td>\n",
       "      <td>1</td>\n",
       "      <td>-1</td>\n",
       "      <td>0</td>\n",
       "      <td>1</td>\n",
       "      <td>-1</td>\n",
       "      <td>...</td>\n",
       "      <td>1</td>\n",
       "      <td>1</td>\n",
       "      <td>-1</td>\n",
       "      <td>-1</td>\n",
       "      <td>0</td>\n",
       "      <td>-1</td>\n",
       "      <td>1</td>\n",
       "      <td>1</td>\n",
       "      <td>1</td>\n",
       "      <td>-1</td>\n",
       "    </tr>\n",
       "    <tr>\n",
       "      <td>2</td>\n",
       "      <td>3</td>\n",
       "      <td>1</td>\n",
       "      <td>0</td>\n",
       "      <td>1</td>\n",
       "      <td>1</td>\n",
       "      <td>1</td>\n",
       "      <td>-1</td>\n",
       "      <td>-1</td>\n",
       "      <td>-1</td>\n",
       "      <td>-1</td>\n",
       "      <td>...</td>\n",
       "      <td>1</td>\n",
       "      <td>1</td>\n",
       "      <td>1</td>\n",
       "      <td>-1</td>\n",
       "      <td>1</td>\n",
       "      <td>-1</td>\n",
       "      <td>1</td>\n",
       "      <td>0</td>\n",
       "      <td>-1</td>\n",
       "      <td>-1</td>\n",
       "    </tr>\n",
       "    <tr>\n",
       "      <td>3</td>\n",
       "      <td>4</td>\n",
       "      <td>1</td>\n",
       "      <td>0</td>\n",
       "      <td>1</td>\n",
       "      <td>1</td>\n",
       "      <td>1</td>\n",
       "      <td>-1</td>\n",
       "      <td>-1</td>\n",
       "      <td>-1</td>\n",
       "      <td>1</td>\n",
       "      <td>...</td>\n",
       "      <td>1</td>\n",
       "      <td>1</td>\n",
       "      <td>-1</td>\n",
       "      <td>-1</td>\n",
       "      <td>1</td>\n",
       "      <td>-1</td>\n",
       "      <td>1</td>\n",
       "      <td>-1</td>\n",
       "      <td>1</td>\n",
       "      <td>-1</td>\n",
       "    </tr>\n",
       "    <tr>\n",
       "      <td>4</td>\n",
       "      <td>5</td>\n",
       "      <td>1</td>\n",
       "      <td>0</td>\n",
       "      <td>-1</td>\n",
       "      <td>1</td>\n",
       "      <td>1</td>\n",
       "      <td>-1</td>\n",
       "      <td>1</td>\n",
       "      <td>1</td>\n",
       "      <td>-1</td>\n",
       "      <td>...</td>\n",
       "      <td>-1</td>\n",
       "      <td>1</td>\n",
       "      <td>-1</td>\n",
       "      <td>-1</td>\n",
       "      <td>0</td>\n",
       "      <td>-1</td>\n",
       "      <td>1</td>\n",
       "      <td>1</td>\n",
       "      <td>1</td>\n",
       "      <td>1</td>\n",
       "    </tr>\n",
       "  </tbody>\n",
       "</table>\n",
       "<p>5 rows × 32 columns</p>\n",
       "</div>"
      ],
      "text/plain": [
       "   index  having_IPhaving_IP_Address  URLURL_Length  Shortining_Service  \\\n",
       "0      1                          -1              1                   1   \n",
       "1      2                           1              1                   1   \n",
       "2      3                           1              0                   1   \n",
       "3      4                           1              0                   1   \n",
       "4      5                           1              0                  -1   \n",
       "\n",
       "   having_At_Symbol  double_slash_redirecting  Prefix_Suffix  \\\n",
       "0                 1                        -1             -1   \n",
       "1                 1                         1             -1   \n",
       "2                 1                         1             -1   \n",
       "3                 1                         1             -1   \n",
       "4                 1                         1             -1   \n",
       "\n",
       "   having_Sub_Domain  SSLfinal_State  Domain_registeration_length  ...  \\\n",
       "0                 -1              -1                           -1  ...   \n",
       "1                  0               1                           -1  ...   \n",
       "2                 -1              -1                           -1  ...   \n",
       "3                 -1              -1                            1  ...   \n",
       "4                  1               1                           -1  ...   \n",
       "\n",
       "   popUpWidnow  Iframe  age_of_domain  DNSRecord  web_traffic  Page_Rank  \\\n",
       "0            1       1             -1         -1           -1         -1   \n",
       "1            1       1             -1         -1            0         -1   \n",
       "2            1       1              1         -1            1         -1   \n",
       "3            1       1             -1         -1            1         -1   \n",
       "4           -1       1             -1         -1            0         -1   \n",
       "\n",
       "   Google_Index  Links_pointing_to_page  Statistical_report  Result  \n",
       "0             1                       1                  -1      -1  \n",
       "1             1                       1                   1      -1  \n",
       "2             1                       0                  -1      -1  \n",
       "3             1                      -1                   1      -1  \n",
       "4             1                       1                   1       1  \n",
       "\n",
       "[5 rows x 32 columns]"
      ]
     },
     "execution_count": 3,
     "metadata": {},
     "output_type": "execute_result"
    }
   ],
   "source": [
    "df.head()"
   ]
  },
  {
   "cell_type": "code",
   "execution_count": 4,
   "metadata": {},
   "outputs": [
    {
     "data": {
      "text/plain": [
       "array([-1,  1], dtype=int64)"
      ]
     },
     "execution_count": 4,
     "metadata": {},
     "output_type": "execute_result"
    }
   ],
   "source": [
    "df['Result'].unique()"
   ]
  },
  {
   "cell_type": "code",
   "execution_count": 5,
   "metadata": {},
   "outputs": [],
   "source": [
    "#Here 1 = phishing and -1 = Legitimate"
   ]
  },
  {
   "cell_type": "code",
   "execution_count": 8,
   "metadata": {},
   "outputs": [
    {
     "data": {
      "text/plain": [
       "(11055, 32)"
      ]
     },
     "execution_count": 8,
     "metadata": {},
     "output_type": "execute_result"
    }
   ],
   "source": [
    "df.shape"
   ]
  },
  {
   "cell_type": "code",
   "execution_count": 9,
   "metadata": {},
   "outputs": [
    {
     "data": {
      "text/plain": [
       "<matplotlib.axes._subplots.AxesSubplot at 0x1b151ced688>"
      ]
     },
     "execution_count": 9,
     "metadata": {},
     "output_type": "execute_result"
    },
    {
     "data": {
      "image/png": "[encoded data removed]",
      "text/plain": [
       "<Figure size 432x288 with 1 Axes>"
      ]
     },
     "metadata": {
      "needs_background": "light"
     },
     "output_type": "display_data"
    }
   ],
   "source": [
    "import seaborn as sns\n",
    "sns.countplot(df['Result'])"
   ]
  },
  {
   "cell_type": "code",
   "execution_count": 10,
   "metadata": {},
   "outputs": [
    {
     "name": "stdout",
     "output_type": "stream",
     "text": [
      "having_IPhaving_IP_Address [-1  1]\n",
      "URLURL_Length [ 1  0 -1]\n",
      "Shortining_Service [ 1 -1]\n",
      "having_At_Symbol [ 1 -1]\n",
      "double_slash_redirecting [-1  1]\n",
      "Prefix_Suffix [-1  1]\n",
      "having_Sub_Domain [-1  0  1]\n",
      "SSLfinal_State [-1  1  0]\n",
      "Domain_registeration_length [-1  1]\n",
      "Favicon [ 1 -1]\n",
      "port [ 1 -1]\n",
      "HTTPS_token [-1  1]\n",
      "Request_URL [ 1 -1]\n",
      "URL_of_Anchor [-1  0  1]\n",
      "Links_in_tags [ 1 -1  0]\n",
      "SFH [-1  1  0]\n",
      "Submitting_to_email [-1  1]\n",
      "Abnormal_URL [-1  1]\n",
      "Redirect [0 1]\n",
      "on_mouseover [ 1 -1]\n",
      "RightClick [ 1 -1]\n",
      "popUpWidnow [ 1 -1]\n",
      "Iframe [ 1 -1]\n",
      "age_of_domain [-1  1]\n",
      "DNSRecord [-1  1]\n",
      "web_traffic [-1  0  1]\n",
      "Page_Rank [-1  1]\n",
      "Google_Index [ 1 -1]\n",
      "Links_pointing_to_page [ 1  0 -1]\n",
      "Statistical_report [-1  1]\n",
      "Result [-1  1]\n"
     ]
    }
   ],
   "source": [
    "#Unique values for each columns\n",
    "col=df.columns\n",
    "for i in col:\n",
    "     if  i!='index':\n",
    "        print(i,df[i].unique())"
   ]
  },
  {
   "cell_type": "code",
   "execution_count": 11,
   "metadata": {},
   "outputs": [],
   "source": [
    "#Replacing -1 with 0 as we will do binary classification\n",
    "df['Result']=df['Result'].replace(-1,0)"
   ]
  },
  {
   "cell_type": "code",
   "execution_count": 12,
   "metadata": {},
   "outputs": [
    {
     "data": {
      "text/plain": [
       "(11055, 32)"
      ]
     },
     "execution_count": 12,
     "metadata": {},
     "output_type": "execute_result"
    }
   ],
   "source": [
    "df.shape"
   ]
  },
  {
   "cell_type": "code",
   "execution_count": 13,
   "metadata": {},
   "outputs": [
    {
     "name": "stdout",
     "output_type": "stream",
     "text": [
      "Domain_registeration_length   -0.225789\n",
      "Shortining_Service            -0.067966\n",
      "Abnormal_URL                  -0.060488\n",
      "HTTPS_token                   -0.039854\n",
      "double_slash_redirecting      -0.038608\n",
      "Redirect                      -0.020113\n",
      "Iframe                        -0.003394\n",
      "Favicon                       -0.000280\n",
      "popUpWidnow                    0.000086\n",
      "index                          0.000978\n",
      "RightClick                     0.012653\n",
      "Submitting_to_email            0.018249\n",
      "Links_pointing_to_page         0.032574\n",
      "port                           0.036419\n",
      "on_mouseover                   0.041838\n",
      "having_At_Symbol               0.052948\n",
      "URLURL_Length                  0.057430\n",
      "DNSRecord                      0.075718\n",
      "Statistical_report             0.079857\n",
      "having_IPhaving_IP_Address     0.094160\n",
      "Page_Rank                      0.104645\n",
      "age_of_domain                  0.121496\n",
      "Google_Index                   0.128950\n",
      "SFH                            0.221419\n",
      "Links_in_tags                  0.248229\n",
      "Request_URL                    0.253372\n",
      "having_Sub_Domain              0.298323\n",
      "web_traffic                    0.346103\n",
      "Prefix_Suffix                  0.348606\n",
      "URL_of_Anchor                  0.692935\n",
      "SSLfinal_State                 0.714741\n",
      "Result                         1.000000\n",
      "Name: Result, dtype: float64\n"
     ]
    }
   ],
   "source": [
    "# Print correlation pf features with target variable\n",
    "print(df.corr()['Result'].sort_values())"
   ]
  },
  {
   "cell_type": "code",
   "execution_count": null,
   "metadata": {},
   "outputs": [],
   "source": []
  },
  {
   "cell_type": "code",
   "execution_count": null,
   "metadata": {},
   "outputs": [
    {
     "name": "stdout",
     "output_type": "stream",
     "text": [
      "\n",
      "running neural networks...\n"
     ]
    },
    {
     "name": "stderr",
     "output_type": "stream",
     "text": [
      "C:\\ProgramData\\Anaconda3\\lib\\site-packages\\sklearn\\neural_network\\multilayer_perceptron.py:921: DataConversionWarning: A column-vector y was passed when a 1d array was expected. Please change the shape of y to (n_samples, ), for example using ravel().\n",
      "  y = column_or_1d(y, warn=True)\n"
     ]
    }
   ],
   "source": [
    "#!/usr/bin/python\n",
    "\n",
    "import time\n",
    "\n",
    "def calculate_metrics(y_test,Y_predicted):\n",
    "\n",
    "    from sklearn import metrics\n",
    "    from sklearn.metrics import classification_report,confusion_matrix\n",
    "\n",
    "    accuracy = metrics.accuracy_score(y_test,Y_predicted)\n",
    "    #print \"accuracy = \"+str(round(accuracy * 100,2))+\"%\"\n",
    "\n",
    "    confusion_mat = confusion_matrix(y_test,Y_predicted)\n",
    "\n",
    "    print(\"Confusion Matrix: \")\n",
    "    print(confusion_mat)\n",
    "    print(\"Confusion Matrix Shape: \", confusion_mat.shape)\n",
    "\n",
    "    print(\"TP\\tFP\\tFN\\tTN\\tSensitivity\\tSpecificity\")\n",
    "    for i in range(confusion_mat.shape[0]):\n",
    "        TP = round(float(confusion_mat[i,i]),2)  # correctly labeled as i\n",
    "        FP = round(float(confusion_mat[:,i].sum()),2) - TP  # incorrectly labeled as i\n",
    "        FN = round(float(confusion_mat[i,:].sum()),2) - TP  # incorrectly labeled as non-i\n",
    "        TN = round(float(confusion_mat.sum().sum()),2) - TP - FP - FN\n",
    "        print(str(TP)+\"\\t\"+str(FP)+\"\\t\"+str(FN)+\"\\t\"+str(TN)),\n",
    "        sensitivity = round(TP / (TP + FN),2)\n",
    "        specificity = round(TN / (TN + FP),2)\n",
    "        print(\"Sensitivity: \"+str(sensitivity))\n",
    "        print(\"Specificity: \"+str(specificity))\n",
    "\n",
    "\n",
    "    f_score = metrics.f1_score(y_test,Y_predicted)\n",
    "    print(\"The F1 score: \", f_score)\n",
    "    print(\"Accuracy: \", accuracy)\n",
    "    \n",
    "\n",
    "def neural_network(dataset,class_labels,test_size):\n",
    "    import numpy as np\n",
    "    import pandas as pd\n",
    "    from sklearn.model_selection import train_test_split\n",
    "    from sklearn.neural_network import MLPClassifier\n",
    "    X = pd.read_csv(dataset)\n",
    "    Y = pd.read_csv(class_labels)\n",
    "    X_train, X_test, y_train, y_test = train_test_split(X, Y, test_size= test_size, random_state=42) \n",
    "    model = MLPClassifier(hidden_layer_sizes=(100), activation='logistic',random_state = 42)\n",
    "    model.fit(X_train,y_train)\n",
    "    Y_predicted = model.predict(X_test)\n",
    "    \n",
    "    \n",
    "    return y_test,Y_predicted\n",
    "\n",
    "\n",
    "def random_forests(dataset,class_labels,test_size):\n",
    "    import numpy as np\n",
    "    import pandas as pd\n",
    "    from sklearn.model_selection import train_test_split\n",
    "    from sklearn.ensemble import RandomForestClassifier\n",
    "    from sklearn import metrics\n",
    "    X = pd.read_csv(dataset)\n",
    "    Y = pd.read_csv(class_labels)\n",
    "    X_train, X_test, y_train, y_test = train_test_split(X, Y, test_size= test_size, random_state=42)   \n",
    "    model = RandomForestClassifier(n_estimators = 5, criterion = 'entropy',random_state = 42)\n",
    "    model.fit(X_train,y_train)\n",
    "    filename = 'finalized_model.pkl'\n",
    "    pickle.dump(model, open(filename, 'wb'))\n",
    "    Y_predicted = model.predict(X_test)\n",
    "    return y_test,Y_predicted\n",
    "\n",
    "def support_vector_machines(dataset,class_labels,test_size):\n",
    "    import numpy as np\n",
    "    from sklearn import svm\n",
    "    import pandas as pd\n",
    "    from sklearn.model_selection import train_test_split\n",
    "    X = pd.read_csv(dataset)\n",
    "    Y = pd.read_csv(class_labels)\n",
    "    X_train, X_test, y_train, y_test = train_test_split(X, Y, test_size= test_size, random_state=42)  \n",
    "    # 'rbf' value is the gaussian kernel, 'C' is the coefficient used for regularization during training\n",
    "    model = svm.SVC(kernel='rbf',C=2.0)\n",
    "    model.fit(X_train,y_train)\n",
    "    Y_predicted = model.predict(X_test)\n",
    "    return y_test,Y_predicted\n",
    "\n",
    "def main():\n",
    "\n",
    "    dataset = \"dataset2.csv\"\n",
    "    class_labels = \"target_labels.csv\"\n",
    "    test_size = 0.3\n",
    "    print(\"\\nrunning neural networks...\")\n",
    "    start_time = time.time()\n",
    "    y_test,Y_predicted = neural_network(dataset,class_labels,test_size)\n",
    "    calculate_metrics(y_test,Y_predicted)\n",
    "    end_time = time.time()\n",
    "    print(\"runtime = \"+str(end_time - start_time)+\" seconds\")\n",
    "    print(\"\\nrunning random forests...\")\n",
    "    start_time = time.time()\n",
    "    y_test,Y_predicted = random_forests(dataset,class_labels,test_size)\n",
    "    calculate_metrics(y_test,Y_predicted)\n",
    "    end_time = time.time()\n",
    "    print(\"runtime = \"+str(end_time - start_time)+\" seconds\")\n",
    "\n",
    "    print(\"\\nrunning support vector machines...\")\n",
    "    start_time = time.time()\n",
    "    y_test,Y_predicted = support_vector_machines(dataset,class_labels,test_size)\n",
    "    calculate_metrics(y_test,Y_predicted)\n",
    "    end_time = time.time()\n",
    "    print(\"runtime = \"+str(end_time - start_time)+\" seconds\")\n",
    "\n",
    "\n",
    "if __name__ == '__main__':\n",
    "    start_time = time.time()\n",
    "    main()\n",
    "    end_time = time.time()\n",
    "    print(\"runtime = \"+str(end_time - start_time)+\" seconds\")"
   ]
  },
  {
   "cell_type": "code",
   "execution_count": null,
   "metadata": {},
   "outputs": [],
   "source": []
  }
 ],
 "metadata": {
  "kernelspec": {
   "display_name": "Python 3",
   "language": "python",
   "name": "python3"
  },
  "language_info": {
   "codemirror_mode": {
    "name": "ipython",
    "version": 3
   },
   "file_extension": ".py",
   "mimetype": "text/x-python",
   "name": "python",
   "nbconvert_exporter": "python",
   "pygments_lexer": "ipython3",
   "version": "3.7.4"
  }
 },
 "nbformat": 4,
 "nbformat_minor": 2
}
